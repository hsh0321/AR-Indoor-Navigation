{
 "cells": [
  {
   "cell_type": "code",
   "execution_count": 1,
   "metadata": {},
   "outputs": [],
   "source": [
    "# -*- coding: utf-8 -*- \n",
    "\n",
    "import tensorflow as tf"
   ]
  },
  {
   "cell_type": "code",
   "execution_count": 2,
   "metadata": {},
   "outputs": [],
   "source": [
    "import numpy as np"
   ]
  },
  {
   "cell_type": "code",
   "execution_count": 3,
   "metadata": {},
   "outputs": [],
   "source": [
    "cnt = 0\n",
    "model_path = \"./variables\""
   ]
  },
  {
   "cell_type": "code",
   "execution_count": 4,
   "metadata": {},
   "outputs": [],
   "source": [
    "tf.set_random_seed(777)"
   ]
  },
  {
   "cell_type": "code",
   "execution_count": 5,
   "metadata": {},
   "outputs": [],
   "source": [
    "xy = np.loadtxt('trainingdata.csv', delimiter=',', dtype=np.float32)"
   ]
  },
  {
   "cell_type": "code",
   "execution_count": 6,
   "metadata": {},
   "outputs": [
    {
     "name": "stdout",
     "output_type": "stream",
     "text": [
      "[[-63. -92. -72. -72.]\n",
      " [-63. -90. -72. -72.]\n",
      " [-64. -90. -72. -74.]\n",
      " ...\n",
      " [-86. -95. -76. -59.]\n",
      " [-87. -95. -76. -59.]\n",
      " [-89. -94. -77. -59.]]\n",
      "[[ 1. 16.]\n",
      " [ 1. 16.]\n",
      " [ 1. 16.]\n",
      " ...\n",
      " [10.  4.]\n",
      " [10.  4.]\n",
      " [10.  4.]]\n"
     ]
    }
   ],
   "source": [
    "x_data = xy[:, 0:-2]\n",
    "y_data = xy[:, -2:]\n",
    "\n",
    "print(x_data)\n",
    "print(y_data)"
   ]
  },
  {
   "cell_type": "code",
   "execution_count": 7,
   "metadata": {},
   "outputs": [],
   "source": [
    "X = tf.placeholder(tf.float32, name='X')\n",
    "Y = tf.placeholder(tf.float32, name='Y')\n",
    "\n",
    "keep_prob = 1"
   ]
  },
  {
   "cell_type": "code",
   "execution_count": 8,
   "metadata": {},
   "outputs": [
    {
     "name": "stdout",
     "output_type": "stream",
     "text": [
      "WARNING:tensorflow:\n",
      "The TensorFlow contrib module will not be included in TensorFlow 2.0.\n",
      "For more information, please see:\n",
      "  * https://github.com/tensorflow/community/blob/master/rfcs/20180907-contrib-sunset.md\n",
      "  * https://github.com/tensorflow/addons\n",
      "  * https://github.com/tensorflow/io (for I/O related ops)\n",
      "If you depend on functionality not listed there, please file an issue.\n",
      "\n"
     ]
    }
   ],
   "source": [
    "W1 = tf.get_variable(\"W1\", shape=[4, 128], initializer=tf.contrib.layers.variance_scaling_initializer())\n",
    "W2 = tf.get_variable(\"W2\", shape=[128, 128], initializer=tf.contrib.layers.variance_scaling_initializer())\n",
    "W3 = tf.get_variable(\"W3\", shape=[128, 128], initializer=tf.contrib.layers.variance_scaling_initializer())\n",
    "W4 = tf.get_variable(\"W4\", shape=[128, 128], initializer=tf.contrib.layers.variance_scaling_initializer())\n",
    "W5 = tf.get_variable(\"W5\", shape=[128, 128], initializer=tf.contrib.layers.variance_scaling_initializer())\n",
    "W6 = tf.get_variable(\"W6\", shape=[128, 128], initializer=tf.contrib.layers.variance_scaling_initializer())\n",
    "W7 = tf.get_variable(\"W7\", shape=[128, 128], initializer=tf.contrib.layers.variance_scaling_initializer())\n",
    "W8 = tf.get_variable(\"W8\", shape=[128, 128], initializer=tf.contrib.layers.variance_scaling_initializer())\n",
    "W9 = tf.get_variable(\"W9\", shape=[128, 128], initializer=tf.contrib.layers.variance_scaling_initializer())\n",
    "W10 = tf.get_variable(\"W10\", shape=[128, 128], initializer=tf.contrib.layers.variance_scaling_initializer())\n",
    "W11 = tf.get_variable(\"W11\", shape=[128, 128], initializer=tf.contrib.layers.variance_scaling_initializer())\n",
    "W12 = tf.get_variable(\"W12\", shape=[128, 128], initializer=tf.contrib.layers.variance_scaling_initializer())\n",
    "W13 = tf.get_variable(\"W13\", shape=[128, 128], initializer=tf.contrib.layers.variance_scaling_initializer())\n",
    "W14 = tf.get_variable(\"W14\", shape=[128, 128], initializer=tf.contrib.layers.variance_scaling_initializer())\n",
    "W15 = tf.get_variable(\"W15\", shape=[128, 128], initializer=tf.contrib.layers.variance_scaling_initializer())\n",
    "W16 = tf.get_variable(\"W16\", shape=[128, 128], initializer=tf.contrib.layers.variance_scaling_initializer())\n",
    "W17 = tf.get_variable(\"W17\", shape=[128, 128], initializer=tf.contrib.layers.variance_scaling_initializer())\n",
    "W18 = tf.get_variable(\"W18\", shape=[128, 128], initializer=tf.contrib.layers.variance_scaling_initializer())\n",
    "out = tf.get_variable(\"out\", shape=[128, 2], initializer=tf.contrib.layers.variance_scaling_initializer())"
   ]
  },
  {
   "cell_type": "code",
   "execution_count": 9,
   "metadata": {},
   "outputs": [
    {
     "name": "stdout",
     "output_type": "stream",
     "text": [
      "WARNING:tensorflow:From <ipython-input-9-64966d90b815>:2: calling dropout (from tensorflow.python.ops.nn_ops) with keep_prob is deprecated and will be removed in a future version.\n",
      "Instructions for updating:\n",
      "Please use `rate` instead of `keep_prob`. Rate should be set to `rate = 1 - keep_prob`.\n"
     ]
    }
   ],
   "source": [
    "L1 = tf.nn.relu(tf.matmul(X, W1))\n",
    "L1 = tf.nn.dropout(L1, keep_prob)\n",
    "\n",
    "L2 = tf.nn.relu(tf.matmul(L1, W2))\n",
    "L2 = tf.nn.dropout(L2, keep_prob)\n",
    "\n",
    "L3 = tf.nn.relu(tf.matmul(L2, W3))\n",
    "L3 = tf.nn.dropout(L3, keep_prob)\n",
    "\n",
    "L4 = tf.nn.relu(tf.matmul(L3, W4))\n",
    "L4 = tf.nn.dropout(L4, keep_prob)\n",
    "\n",
    "L5 = tf.nn.relu(tf.matmul(L4, W5))\n",
    "L5 = tf.nn.dropout(L5, keep_prob)\n",
    "\n",
    "L6 = tf.nn.relu(tf.matmul(L5, W6))\n",
    "L6 = tf.nn.dropout(L6, keep_prob)\n",
    "\n",
    "L7 = tf.nn.relu(tf.matmul(L6, W7))\n",
    "L7 = tf.nn.dropout(L7, keep_prob)\n",
    "\n",
    "L8 = tf.nn.relu(tf.matmul(L7, W8))\n",
    "L8 = tf.nn.dropout(L8, keep_prob)\n",
    "\n",
    "L9 = tf.nn.relu(tf.matmul(L8, W9))\n",
    "L9 = tf.nn.dropout(L9, keep_prob)\n",
    "\n",
    "L10 = tf.nn.relu(tf.matmul(L9, W10))\n",
    "L10 = tf.nn.dropout(L10, keep_prob)\n",
    "\n",
    "L11 = tf.nn.relu(tf.matmul(L10, W11))\n",
    "L11 = tf.nn.dropout(L11, keep_prob)\n",
    "\n",
    "L12 = tf.nn.relu(tf.matmul(L11, W12))\n",
    "L12 = tf.nn.dropout(L12, keep_prob)\n",
    "\n",
    "L13 = tf.nn.relu(tf.matmul(L12, W13))\n",
    "L13 = tf.nn.dropout(L13, keep_prob)\n",
    "\n",
    "L14 = tf.nn.relu(tf.matmul(L13, W14))\n",
    "L14 = tf.nn.dropout(L14, keep_prob)\n",
    "\n",
    "L15 = tf.nn.relu(tf.matmul(L14, W15))\n",
    "L15 = tf.nn.dropout(L15, keep_prob)\n",
    "\n",
    "L16 = tf.nn.relu(tf.matmul(L15, W16))\n",
    "L16 = tf.nn.dropout(L16, keep_prob)\n",
    "\n",
    "L17 = tf.nn.relu(tf.matmul(L16, W17))\n",
    "L17 = tf.nn.dropout(L17, keep_prob)\n",
    "\n",
    "L18 = tf.nn.relu(tf.matmul(L17, W18))\n",
    "L18 = tf.nn.dropout(L18, keep_prob)\n",
    "\n",
    "hypothesis = tf.matmul(L18, out)\n",
    "\n",
    "h = tf.identity(hypothesis, name='h')"
   ]
  },
  {
   "cell_type": "code",
   "execution_count": 10,
   "metadata": {},
   "outputs": [],
   "source": [
    "cost = tf.reduce_mean(tf.square(hypothesis - Y))\n",
    "\n",
    "optimizer = tf.train.GradientDescentOptimizer(learning_rate=0.000001)\n",
    "train_op = optimizer.minimize(cost)"
   ]
  },
  {
   "cell_type": "code",
   "execution_count": 11,
   "metadata": {},
   "outputs": [
    {
     "name": "stdout",
     "output_type": "stream",
     "text": [
      "INFO:tensorflow:Restoring parameters from ./variables\n"
     ]
    }
   ],
   "source": [
    "init = tf.global_variables_initializer()\n",
    "sess = tf.Session()\n",
    "sess.run(init)\n",
    "\n",
    "saver = tf.train.Saver()\n",
    "saver.restore(sess, model_path)"
   ]
  },
  {
   "cell_type": "code",
   "execution_count": 13,
   "metadata": {},
   "outputs": [
    {
     "name": "stdout",
     "output_type": "stream",
     "text": [
      "99800000 0.5950028\n",
      "INFO:tensorflow:No assets to save.\n",
      "INFO:tensorflow:No assets to write.\n",
      "INFO:tensorflow:SavedModel written to: /ZStep10004Projectfinal/fromPython\\saved_model.pb\n"
     ]
    }
   ],
   "source": [
    "for step in range(100000000):\n",
    "    sess.run(train_op, feed_dict={X: x_data, Y: y_data})\n",
    "    \n",
    "    if (step + 1) % 100000 == 0:\n",
    "        cnt = cnt + 1\n",
    "        print(step + 1, sess.run(cost, feed_dict={X: x_data, Y: y_data}))\n",
    "        builder = tf.saved_model.builder.SavedModelBuilder(\"/ZStep\"+str(cnt)+\"Projectfinal/fromPython\")\n",
    "        builder.add_meta_graph_and_variables(sess,[tf.saved_model.tag_constants.SERVING])\n",
    "        builder.save()\n",
    "        saver.save(sess, model_path)"
   ]
  },
  {
   "cell_type": "code",
   "execution_count": null,
   "metadata": {},
   "outputs": [],
   "source": []
  }
 ],
 "metadata": {
  "kernelspec": {
   "display_name": "Python 3",
   "language": "python",
   "name": "python3"
  },
  "language_info": {
   "codemirror_mode": {
    "name": "ipython",
    "version": 3
   },
   "file_extension": ".py",
   "mimetype": "text/x-python",
   "name": "python",
   "nbconvert_exporter": "python",
   "pygments_lexer": "ipython3",
   "version": "3.7.6"
  }
 },
 "nbformat": 4,
 "nbformat_minor": 4
}
